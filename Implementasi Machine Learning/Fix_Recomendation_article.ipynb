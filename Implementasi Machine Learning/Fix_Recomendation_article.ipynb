{
  "cells": [
    {
      "cell_type": "code",
      "execution_count": 2,
      "metadata": {
        "id": "HrdWuV-tiFVS"
      },
      "outputs": [
        {
          "name": "stdout",
          "output_type": "stream",
          "text": [
            "Requirement already satisfied: numpy in c:\\users\\ferra\\appdata\\local\\programs\\python\\python312\\lib\\site-packages (1.26.2)Note: you may need to restart the kernel to use updated packages.\n",
            "\n",
            "Requirement already satisfied: pandas in c:\\users\\ferra\\appdata\\local\\programs\\python\\python312\\lib\\site-packages (2.1.4)\n",
            "Requirement already satisfied: scikit-learn in c:\\users\\ferra\\appdata\\local\\programs\\python\\python312\\lib\\site-packages (1.3.2)\n",
            "Requirement already satisfied: python-dateutil>=2.8.2 in c:\\users\\ferra\\appdata\\roaming\\python\\python312\\site-packages (from pandas) (2.8.2)\n",
            "Requirement already satisfied: pytz>=2020.1 in c:\\users\\ferra\\appdata\\local\\programs\\python\\python312\\lib\\site-packages (from pandas) (2023.3.post1)\n",
            "Requirement already satisfied: tzdata>=2022.1 in c:\\users\\ferra\\appdata\\local\\programs\\python\\python312\\lib\\site-packages (from pandas) (2023.3)\n",
            "Requirement already satisfied: scipy>=1.5.0 in c:\\users\\ferra\\appdata\\local\\programs\\python\\python312\\lib\\site-packages (from scikit-learn) (1.11.4)\n",
            "Requirement already satisfied: joblib>=1.1.1 in c:\\users\\ferra\\appdata\\local\\programs\\python\\python312\\lib\\site-packages (from scikit-learn) (1.3.2)\n",
            "Requirement already satisfied: threadpoolctl>=2.0.0 in c:\\users\\ferra\\appdata\\local\\programs\\python\\python312\\lib\\site-packages (from scikit-learn) (3.2.0)\n",
            "Requirement already satisfied: six>=1.5 in c:\\users\\ferra\\appdata\\roaming\\python\\python312\\site-packages (from python-dateutil>=2.8.2->pandas) (1.16.0)\n"
          ]
        }
      ],
      "source": [
        "pip install numpy pandas scikit-learn"
      ]
    },
    {
      "cell_type": "markdown",
      "metadata": {
        "id": "rhzqFrqgpnuH"
      },
      "source": [
        "# Bagian Baru"
      ]
    },
    {
      "cell_type": "markdown",
      "metadata": {
        "id": "nSsBZGfKprxy"
      },
      "source": [
        "# Bagian Baru"
      ]
    },
    {
      "cell_type": "code",
      "execution_count": 3,
      "metadata": {
        "id": "LDO_z27th_ZG"
      },
      "outputs": [],
      "source": [
        "import numpy as np\n",
        "import pandas as pd\n",
        "import difflib\n",
        "from sklearn.feature_extraction.text import TfidfVectorizer\n",
        "from sklearn.metrics.pairwise import cosine_similarity\n"
      ]
    },
    {
      "cell_type": "code",
      "execution_count": 6,
      "metadata": {
        "id": "d_B0XDMBiPRX"
      },
      "outputs": [],
      "source": [
        "#loading data\n",
        "article_data = pd.read_csv('artikel_detik.csv')"
      ]
    },
    {
      "cell_type": "code",
      "execution_count": 5,
      "metadata": {
        "colab": {
          "base_uri": "https://localhost:8080/"
        },
        "id": "6L2PdhIajL65",
        "outputId": "bf145980-25cb-464f-ed2b-85229faa7837"
      },
      "outputs": [
        {
          "name": "stdout",
          "output_type": "stream",
          "text": [
            "['headline', 'content', 'indeks']\n"
          ]
        }
      ],
      "source": [
        "selected_feature = ['headline', 'content', 'indeks']\n",
        "print(selected_feature)"
      ]
    },
    {
      "cell_type": "code",
      "execution_count": 7,
      "metadata": {
        "id": "1pcHgsrRjXjN"
      },
      "outputs": [],
      "source": [
        "for feature in selected_feature:\n",
        "  article_data[feature] = article_data[feature].fillna('')\n"
      ]
    },
    {
      "cell_type": "code",
      "execution_count": 8,
      "metadata": {
        "colab": {
          "base_uri": "https://localhost:8080/"
        },
        "id": "_FRztqSQjctW",
        "outputId": "d35a0b8f-c804-4b97-f485-6cec32bf53a6"
      },
      "outputs": [
        {
          "name": "stdout",
          "output_type": "stream",
          "text": [
            "Recommendations Based on Similarity:\n",
            "      Indeks                                           Headline  Similarity\n",
            "0          1    10 Pekerjaan dengan Gaji Tertinggi di Indonesia    1.000000\n",
            "2759    2760  10 Pekerjaan dengan Gaji Tertinggi di RI Tahun...    0.547146\n",
            "3333    3334  Bikin Ngiler, Ini 10 Pekerjaan Dengan Gaji Pal...    0.534421\n",
            "2578    2579  10 Profesi dengan Gaji tertinggi di Indonesia,...    0.483045\n",
            "2861    2862      10 Jabatan dengan Gaji Tertinggi di Indonesia    0.421557\n",
            "...      ...                                                ...         ...\n",
            "3744    3745                         EasyCash Kantongi Izin OJK    0.007560\n",
            "3743    3744   Giliran Bank Syariah Mandiri Blokir Rekening FPI    0.007560\n",
            "990      991  Daya Tampung Prodi USU Tertinggi-Terendah di S...    0.005633\n",
            "991      992  Upaya Telkom Perluas Adopsi Internet Rumahan d...    0.005633\n",
            "688      689               Menimbang Usul Dana Desa Lima Miliar    0.005519\n",
            "\n",
            "[4482 rows x 3 columns]\n"
          ]
        }
      ],
      "source": [
        "article_click_index = 0  # Assuming article_click_index is set to the first article for demonstration\n",
        "article_click_id = article_data['indeks'][article_click_index]\n",
        "article_click_headline = article_data['headline'][article_click_index]\n",
        "article_click_content = article_data['content'][article_click_index]\n",
        "\n",
        "# TF-IDF Vectorizer\n",
        "vectorizer = TfidfVectorizer()\n",
        "tfidf_matrix = vectorizer.fit_transform(article_data['content'])\n",
        "\n",
        "# Cosine Similarity Calculation for all articles\n",
        "cosine_similarities = cosine_similarity(tfidf_matrix, tfidf_matrix[article_click_index]).flatten()\n",
        "\n",
        "# Create a DataFrame to store the results for all articles\n",
        "result_df = pd.DataFrame({\n",
        "    'Indeks': article_data['indeks'],\n",
        "    'Headline': article_data['headline'],\n",
        "    # 'Content': article_data['content'],\n",
        "    'Similarity': cosine_similarities\n",
        "})\n",
        "\n",
        "# Sort the DataFrame by similarity in descending order\n",
        "result_df = result_df.sort_values(by='Similarity', ascending=False)\n",
        "\n",
        "# Display the recommendations with ID, Headline, Content, and Similarity\n",
        "print(\"Recommendations Based on Similarity:\")\n",
        "print(result_df[['Indeks', 'Headline', 'Similarity']])"
      ]
    },
    {
      "cell_type": "code",
      "execution_count": null,
      "metadata": {
        "colab": {
          "base_uri": "https://localhost:8080/"
        },
        "id": "laOOHTPJ1QNI",
        "outputId": "4d97d17a-c247-4542-ef0a-c680af0b850d"
      },
      "outputs": [
        {
          "name": "stdout",
          "output_type": "stream",
          "text": [
            "        ID                                           Headline  \\\n",
            "0        1    10 Pekerjaan dengan Gaji Tertinggi di Indonesia   \n",
            "2759  2760  10 Pekerjaan dengan Gaji Tertinggi di RI Tahun...   \n",
            "3333  3334  Bikin Ngiler, Ini 10 Pekerjaan Dengan Gaji Pal...   \n",
            "2578  2579  10 Profesi dengan Gaji tertinggi di Indonesia,...   \n",
            "2861  2862      10 Jabatan dengan Gaji Tertinggi di Indonesia   \n",
            "...    ...                                                ...   \n",
            "3744  3745                         EasyCash Kantongi Izin OJK   \n",
            "3743  3744   Giliran Bank Syariah Mandiri Blokir Rekening FPI   \n",
            "990    991  Daya Tampung Prodi USU Tertinggi-Terendah di S...   \n",
            "991    992  Upaya Telkom Perluas Adopsi Internet Rumahan d...   \n",
            "688    689               Menimbang Usul Dana Desa Lima Miliar   \n",
            "\n",
            "                                                Content  Similarity  \n",
            "0     Gaji merupakan salah satu hal yang dipertimban...    1.000000  \n",
            "2759  Pekerjaan dengan gaji tinggi ternyata tidak ha...    0.547146  \n",
            "3333  Gaji merupakan salah satu pertimbangan paling ...    0.534421  \n",
            "2578  Seringkali besaran gaji yang dapat diterima me...    0.483045  \n",
            "2861  Gaji biasanya menjadi salah satu pertimbangan ...    0.421557  \n",
            "...                                                 ...         ...  \n",
            "3744  Sekretaris Perusahaan BSM Ivan Ally mengungkap...    0.007560  \n",
            "3743  Sekretaris Perusahaan BSM Ivan Ally mengungkap...    0.007560  \n",
            "990   Pada penerimaan mahasiswa baru tahun 2023, Uni...    0.005633  \n",
            "991   Pada penerimaan mahasiswa baru tahun 2023, Uni...    0.005633  \n",
            "688   [Gambas:Video 20detik]\\n\\n\\nSCROLL TO CONTINUE...    0.005519  \n",
            "\n",
            "[4482 rows x 4 columns]\n"
          ]
        }
      ],
      "source": []
    },
    {
      "cell_type": "code",
      "execution_count": 9,
      "metadata": {
        "id": "5L8pdtyN1WDb"
      },
      "outputs": [
        {
          "name": "stdout",
          "output_type": "stream",
          "text": [
            "Index(['indeks', 'headline', 'keyword', 'author', 'sites', 'date', 'content',\n",
            "       'img_link', 'article_link'],\n",
            "      dtype='object')\n"
          ]
        }
      ],
      "source": [
        "print(article_data.columns)\n"
      ]
    },
    {
      "cell_type": "code",
      "execution_count": null,
      "metadata": {
        "id": "rnyyLGO5T9I9"
      },
      "outputs": [],
      "source": []
    },
    {
      "cell_type": "code",
      "execution_count": null,
      "metadata": {
        "id": "Q3Ni4mcqmiU_"
      },
      "outputs": [],
      "source": []
    },
    {
      "cell_type": "code",
      "execution_count": null,
      "metadata": {
        "id": "qX7o88UF2IUV"
      },
      "outputs": [],
      "source": []
    },
    {
      "cell_type": "code",
      "execution_count": null,
      "metadata": {
        "id": "J5Kj6zNO2U92"
      },
      "outputs": [],
      "source": []
    },
    {
      "cell_type": "code",
      "execution_count": null,
      "metadata": {
        "id": "yoYswrzo2_74"
      },
      "outputs": [],
      "source": []
    },
    {
      "cell_type": "code",
      "execution_count": null,
      "metadata": {
        "id": "2zXRYxkP3X12"
      },
      "outputs": [],
      "source": []
    },
    {
      "cell_type": "code",
      "execution_count": null,
      "metadata": {
        "id": "TX1tYqUg4IKd"
      },
      "outputs": [],
      "source": []
    },
    {
      "cell_type": "code",
      "execution_count": null,
      "metadata": {
        "id": "JKuRcjUH4VNE"
      },
      "outputs": [],
      "source": []
    }
  ],
  "metadata": {
    "colab": {
      "provenance": []
    },
    "kernelspec": {
      "display_name": "Python 3",
      "name": "python3"
    },
    "language_info": {
      "codemirror_mode": {
        "name": "ipython",
        "version": 3
      },
      "file_extension": ".py",
      "mimetype": "text/x-python",
      "name": "python",
      "nbconvert_exporter": "python",
      "pygments_lexer": "ipython3",
      "version": "3.12.0"
    }
  },
  "nbformat": 4,
  "nbformat_minor": 0
}
